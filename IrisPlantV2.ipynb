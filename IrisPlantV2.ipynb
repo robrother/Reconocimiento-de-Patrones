{
 "cells": [
  {
   "cell_type": "markdown",
   "metadata": {},
   "source": [
    "# Clasificador Euclidiano"
   ]
  },
  {
   "cell_type": "markdown",
   "metadata": {},
   "source": [
    "Importamos las librerias que vamos a utilizar"
   ]
  },
  {
   "cell_type": "code",
   "execution_count": 40,
   "metadata": {},
   "outputs": [],
   "source": [
    "import pandas as pd\n",
    "import numpy as np\n",
    "import math\n",
    "from sklearn.model_selection import train_test_split\n",
    "from random import shuffle\n",
    "from sklearn.utils import shuffle "
   ]
  },
  {
   "cell_type": "markdown",
   "metadata": {},
   "source": [
    "#### Importamos el conjunto de datos"
   ]
  },
  {
   "cell_type": "code",
   "execution_count": 3,
   "metadata": {},
   "outputs": [
    {
     "name": "stdout",
     "output_type": "stream",
     "text": [
      "150\n"
     ]
    }
   ],
   "source": [
    "data = pd.read_csv(\"iris.csv\") \n",
    "print(len(data))\n",
    "#print(data)"
   ]
  },
  {
   "cell_type": "markdown",
   "metadata": {},
   "source": [
    "Separamos por clases el conjunto de datos"
   ]
  },
  {
   "cell_type": "code",
   "execution_count": 4,
   "metadata": {},
   "outputs": [],
   "source": [
    "clase1=data[0:50]\n",
    "clase2=data[50:100]\n",
    "clase3=data[100:150]"
   ]
  },
  {
   "cell_type": "markdown",
   "metadata": {},
   "source": [
    "Cada clase la tenemos que dividir en 10 partes de manera aleatoria (cada parte tiene 5 datos)"
   ]
  },
  {
   "cell_type": "code",
   "execution_count": 5,
   "metadata": {},
   "outputs": [],
   "source": [
    "#***********************----Revolvemos las clases---***************************************\n",
    "clase1_revuelta=shuffle(clase1)\n",
    "c1r=clase1_revuelta[0:50]\n",
    "c1r=c1r.values\n",
    "\n",
    "clase2_revuelta=shuffle(clase2)\n",
    "c2r=clase2_revuelta[0:50]\n",
    "c2r=c2r.values\n",
    "\n",
    "clase3_revuelta=shuffle(clase3)\n",
    "c3r=clase3_revuelta[0:50]\n",
    "c3r=c3r.values\n",
    "\n",
    "#***********************----Dividimos las clases en conjuntos de 5 datos---***************************************\n",
    "clase1_dividida = [c1r[x:x+5] for x in range(0, len(c1r), 5)]\n",
    "clase2_dividida = [c2r[x:x+5] for x in range(0, len(c2r), 5)]\n",
    "clase3_dividida = [c3r[x:x+5] for x in range(0, len(c3r), 5)]"
   ]
  },
  {
   "cell_type": "markdown",
   "metadata": {},
   "source": [
    "#### Armamos los K Folds"
   ]
  },
  {
   "cell_type": "code",
   "execution_count": 6,
   "metadata": {},
   "outputs": [
    {
     "name": "stdout",
     "output_type": "stream",
     "text": [
      "10\n"
     ]
    }
   ],
   "source": [
    "Fold = []\n",
    "for i in range(0,10):\n",
    "    Fold.append([clase1_dividida[i],clase2_dividida[i],clase3_dividida[i]])   \n",
    "print(len(Fold))"
   ]
  },
  {
   "cell_type": "code",
   "execution_count": 14,
   "metadata": {},
   "outputs": [],
   "source": [
    "Fold_copy=Fold[0:11]\n",
    "## convert your array into a dataframe\n",
    "df = pd.DataFrame (Fold_copy)\n",
    "## save to xlsx file\n",
    "filepath = 'my_excel_file.xlsx'\n",
    "df.to_excel(filepath, index=False)"
   ]
  },
  {
   "cell_type": "markdown",
   "metadata": {},
   "source": [
    "#### Calculamos el vector medio "
   ]
  },
  {
   "cell_type": "code",
   "execution_count": 33,
   "metadata": {},
   "outputs": [],
   "source": [
    "#         e                   j                         k                               1,2,3,4\n",
    "# [Numero de fold(0-9)][Numero de clase(0-2)][Elemento de la clase(0-5)][De cada elemento su valor de caracteristica(0-4)]\n",
    "\n",
    "\n",
    "#vector medio de cada clase\n",
    "VM_Clase1 = []\n",
    "VM_Clase2 = []\n",
    "VM_Clase3 = []\n",
    "\n",
    "for i in range(0,10): #Realizamos la iteracion 10 veces segun el K_FOLD\n",
    "    x1 = x2 = x3 = x4 = 0\n",
    "    xa1 = xa2 = xa3 = xa4 = 0\n",
    "    xb1 = xb2 = xb3 = xb4 = 0\n",
    "    xc1 = xc2 = xc3 = xc4 = 0\n",
    "    for e in range(0,10):\n",
    "        if e == i: continue   #Vamos dejando 1 Fold como conjunto de entrenamiento\n",
    "        for k in range(0,5):\n",
    "            #Clase 1 Setosa\n",
    "            xa1+=Fold[e][0][k][0]\n",
    "            xa2+=Fold[e][0][k][1]\n",
    "            xa3+=Fold[e][0][k][2]\n",
    "            xa4+=Fold[e][0][k][3]\n",
    "            #Clase 2 Versicolor\n",
    "            xb1+=Fold[e][1][k][0]\n",
    "            xb2+=Fold[e][1][k][1]\n",
    "            xb3+=Fold[e][1][k][2]\n",
    "            xb4+=Fold[e][1][k][3]\n",
    "            #Clase 3 Virginica\n",
    "            xc1+=Fold[e][2][k][0]\n",
    "            xc2+=Fold[e][2][k][1]\n",
    "            xc3+=Fold[e][2][k][2]\n",
    "            xc4+=Fold[e][2][k][3]            \n",
    "        #print(e)\n",
    "    VM_Clase1.append([xa1/45,xa2/45,xa3/45,xa4/45]) \n",
    "    VM_Clase2.append([xb1/45,xb2/45,xb3/45,xb4/45]) \n",
    "    VM_Clase3.append([xc1/45,xc2/45,xc3/45,xc4/45])  \n",
    "    #print('-------------')"
   ]
  },
  {
   "cell_type": "markdown",
   "metadata": {},
   "source": [
    "### Calculamos la distancia Euclidiana entre el vector medio y el conjunto de prueba"
   ]
  },
  {
   "cell_type": "code",
   "execution_count": 134,
   "metadata": {},
   "outputs": [],
   "source": [
    "#         e                   j                         k                               1,2,3,4\n",
    "# [Numero de fold(0-9)][Numero de clase(0-2)][Elemento de la clase(0-5)][De cada elemento su valor de caracteristica(0-4)]\n",
    "resultado = []\n",
    "res = []\n",
    "e=0\n",
    "for i in range(0,10): \n",
    "    for j in range (0,3):\n",
    "        for k in range(0,5):\n",
    "            DistEuc1 = math.sqrt(((Fold[i][j][k][0]-VM_Clase1[i][0])**2)+ ((Fold[i][j][k][1]-VM_Clase1[i][1])**2) +((Fold[i][j][k][2]-VM_Clase1[i][2])**2)+((Fold[i][j][k][3]-VM_Clase1[i][3])**2))\n",
    "            DistEuc2 = math.sqrt(((Fold[i][j][k][0]-VM_Clase2[i][0])**2)+ ((Fold[i][j][k][1]-VM_Clase2[i][1])**2) +((Fold[i][j][k][2]-VM_Clase2[i][2])**2)+((Fold[i][j][k][3]-VM_Clase2[i][3])**2))\n",
    "            DistEuc3 = math.sqrt(((Fold[i][j][k][0]-VM_Clase3[i][0])**2)+ ((Fold[i][j][k][1]-VM_Clase3[i][1])**2) +((Fold[i][j][k][2]-VM_Clase3[i][2])**2)+((Fold[i][j][k][3]-VM_Clase3[i][3])**2))\n",
    "            if DistEuc1 < DistEuc2 and DistEuc1 < DistEuc3 :\n",
    "                #print('El resultado pertenece a la Clase1 Setosa')\n",
    "                val = 1\n",
    "            elif DistEuc2 < DistEuc1 and DistEuc2 < DistEuc3 :\n",
    "                #print('El resultado pertenece a la Clase2 Versicolor')\n",
    "                val = 2\n",
    "            elif DistEuc3 < DistEuc1 and DistEuc3 < DistEuc2 :\n",
    "                #print('El resultado pertenece a la Clase3 Virginica')\n",
    "                val = 3\n",
    "            #Guardamos los resultados en un vector \n",
    "            res.append(val)\n",
    "#***********************----Dividimos los resultados de las comparaciones en conjuntos de 15 datos---***************************************\n",
    "resultado = [res[x:x+15] for x in range(0, len(res), 15)]"
   ]
  },
  {
   "cell_type": "markdown",
   "metadata": {},
   "source": [
    "### Calculamos el Accuracy en cada Fold"
   ]
  },
  {
   "cell_type": "code",
   "execution_count": null,
   "metadata": {},
   "outputs": [],
   "source": [
    "matriz_comparacion = [1,1,1,1,1,2,2,2,2,2,3,3,3,3,3]\n",
    "Accuracy=[]\n",
    "\n",
    "for i in range(0,10):\n",
    "    contador=0\n",
    "    for j in range(0,15):\n",
    "        if resultado[i][j] == matriz_comparacion[j]:\n",
    "            contador+=1\n",
    "        else:\n",
    "            contador=contador\n",
    "    Accuracy.append(contador/15)"
   ]
  },
  {
   "cell_type": "markdown",
   "metadata": {},
   "source": [
    "### Calculamos el Accuracy promedio del clasificador"
   ]
  },
  {
   "cell_type": "code",
   "execution_count": 146,
   "metadata": {},
   "outputs": [
    {
     "name": "stdout",
     "output_type": "stream",
     "text": [
      "El promedio del accuracy del clasificador euclidiano es: 0.9266666666666667\n"
     ]
    }
   ],
   "source": [
    "total=0\n",
    "for i in range(0,10):\n",
    "    total+=Accuracy[i]\n",
    "total=total/10\n",
    "print(\"El promedio del accuracy del clasificador euclidiano es:\", total)\n",
    "\n"
   ]
  },
  {
   "cell_type": "markdown",
   "metadata": {},
   "source": [
    "### Presentamos los resultados"
   ]
  },
  {
   "cell_type": "code",
   "execution_count": 145,
   "metadata": {},
   "outputs": [
    {
     "name": "stdout",
     "output_type": "stream",
     "text": [
      "------------------------------------------\n",
      "En el fold 0\n",
      "El vector medio de la clase 1 es: [5.017777777777778, 3.4377777777777774, 1.4533333333333331, 0.24444444444444433]\n",
      "El vector medio de la clase 2 es: [5.9177777777777765, 2.788888888888889, 4.2377777777777785, 1.324444444444444]\n",
      "El vector medio de la clase 3 es: [6.564444444444444, 2.988888888888889, 5.540000000000001, 2.0311111111111106]\n",
      "El accuracy es de 0.8666666666666667\n",
      "------------------------------------------\n",
      "En el fold 1\n",
      "El vector medio de la clase 1 es: [4.997777777777778, 3.4044444444444446, 1.4622222222222219, 0.24444444444444433]\n",
      "El vector medio de la clase 2 es: [5.882222222222221, 2.762222222222223, 4.233333333333333, 1.3199999999999994]\n",
      "El vector medio de la clase 3 es: [6.593333333333333, 2.977777777777778, 5.537777777777778, 2.0177777777777774]\n",
      "El accuracy es de 0.8\n",
      "------------------------------------------\n",
      "En el fold 2\n",
      "El vector medio de la clase 1 es: [5.017777777777778, 3.402222222222222, 1.4844444444444445, 0.24444444444444435]\n",
      "El vector medio de la clase 2 es: [5.9755555555555535, 2.777777777777778, 4.295555555555556, 1.3311111111111107]\n",
      "El vector medio de la clase 3 es: [6.586666666666668, 2.9644444444444438, 5.542222222222223, 2.0288888888888885]\n",
      "El accuracy es de 0.9333333333333333\n",
      "------------------------------------------\n",
      "En el fold 3\n",
      "El vector medio de la clase 1 es: [4.991111111111111, 3.3955555555555557, 1.451111111111111, 0.2399999999999999]\n",
      "El vector medio de la clase 2 es: [5.937777777777776, 2.764444444444445, 4.255555555555556, 1.3288888888888883]\n",
      "El vector medio de la clase 3 es: [6.593333333333333, 2.96, 5.548888888888889, 2.0266666666666664]\n",
      "El accuracy es de 1.0\n",
      "------------------------------------------\n",
      "En el fold 4\n",
      "El vector medio de la clase 1 es: [5.002222222222222, 3.415555555555556, 1.4622222222222219, 0.24888888888888883]\n",
      "El vector medio de la clase 2 es: [5.942222222222222, 2.755555555555556, 4.277777777777779, 1.3288888888888883]\n",
      "El vector medio de la clase 3 es: [6.613333333333334, 2.968888888888889, 5.575555555555556, 2.0266666666666664]\n",
      "El accuracy es de 1.0\n",
      "------------------------------------------\n",
      "En el fold 5\n",
      "El vector medio de la clase 1 es: [5.013333333333334, 3.42, 1.4488888888888887, 0.2399999999999999]\n",
      "El vector medio de la clase 2 es: [5.911111111111111, 2.7511111111111113, 4.235555555555556, 1.3199999999999994]\n",
      "El vector medio de la clase 3 es: [6.575555555555557, 2.957777777777778, 5.537777777777778, 2.026666666666666]\n",
      "El accuracy es de 0.9333333333333333\n",
      "------------------------------------------\n",
      "En el fold 6\n",
      "El vector medio de la clase 1 es: [5.02888888888889, 3.455555555555555, 1.4755555555555557, 0.24222222222222214]\n",
      "El vector medio de la clase 2 es: [5.92, 2.757777777777778, 4.264444444444445, 1.324444444444444]\n",
      "El vector medio de la clase 3 es: [6.553333333333334, 2.966666666666667, 5.531111111111111, 2.0222222222222217]\n",
      "El accuracy es de 1.0\n",
      "------------------------------------------\n",
      "En el fold 7\n",
      "El vector medio de la clase 1 es: [4.995555555555556, 3.411111111111111, 1.4688888888888887, 0.23999999999999996]\n",
      "El vector medio de la clase 2 es: [5.957777777777777, 2.766666666666667, 4.246666666666667, 1.3199999999999996]\n",
      "El vector medio de la clase 3 es: [6.568888888888888, 2.9644444444444438, 5.528888888888888, 2.0266666666666664]\n",
      "El accuracy es de 0.9333333333333333\n",
      "------------------------------------------\n",
      "En el fold 8\n",
      "El vector medio de la clase 1 es: [5.008888888888889, 3.4422222222222225, 1.4644444444444442, 0.24666666666666662]\n",
      "El vector medio de la clase 2 es: [5.953333333333333, 2.7866666666666666, 4.26888888888889, 1.3333333333333333]\n",
      "El vector medio de la clase 3 es: [6.602222222222221, 2.991111111111111, 5.582222222222222, 2.0377777777777775]\n",
      "El accuracy es de 0.9333333333333333\n",
      "------------------------------------------\n",
      "En el fold 9\n",
      "El vector medio de la clase 1 es: [4.986666666666668, 3.3955555555555557, 1.4688888888888887, 0.24888888888888883]\n",
      "El vector medio de la clase 2 es: [5.962222222222222, 2.7888888888888888, 4.2844444444444445, 1.3288888888888886]\n",
      "El vector medio de la clase 3 es: [6.628888888888888, 3.0000000000000004, 5.595555555555555, 2.015555555555555]\n",
      "El accuracy es de 0.8666666666666667\n"
     ]
    }
   ],
   "source": [
    "for i in range(0,10):\n",
    "    print(\"------------------------------------------\")\n",
    "    print(\"En el fold\", i)\n",
    "    print(\"El vector medio de la clase 1 es:\", VM_Clase1[i])\n",
    "    print(\"El vector medio de la clase 2 es:\", VM_Clase2[i])\n",
    "    print(\"El vector medio de la clase 3 es:\", VM_Clase3[i])\n",
    "    print(\"El accuracy es de\", Accuracy[i])"
   ]
  },
  {
   "cell_type": "code",
   "execution_count": null,
   "metadata": {},
   "outputs": [],
   "source": []
  }
 ],
 "metadata": {
  "kernelspec": {
   "display_name": "Python 3",
   "language": "python",
   "name": "python3"
  },
  "language_info": {
   "codemirror_mode": {
    "name": "ipython",
    "version": 3
   },
   "file_extension": ".py",
   "mimetype": "text/x-python",
   "name": "python",
   "nbconvert_exporter": "python",
   "pygments_lexer": "ipython3",
   "version": "3.6.4"
  }
 },
 "nbformat": 4,
 "nbformat_minor": 2
}
