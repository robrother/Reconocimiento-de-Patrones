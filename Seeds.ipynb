{
 "cells": [
  {
   "cell_type": "markdown",
   "metadata": {},
   "source": [
    "# Clasificador Euclidiano"
   ]
  },
  {
   "cell_type": "markdown",
   "metadata": {},
   "source": [
    "Importamos las librerias que vamos a utilizar"
   ]
  },
  {
   "cell_type": "code",
   "execution_count": 1,
   "metadata": {},
   "outputs": [],
   "source": [
    "import pandas as pd\n",
    "import numpy as np\n",
    "import math\n",
    "from sklearn.model_selection import train_test_split\n",
    "from random import shuffle\n",
    "from sklearn.utils import shuffle "
   ]
  },
  {
   "cell_type": "markdown",
   "metadata": {},
   "source": [
    "Importamos el conjunto de datos,\n",
    "\n",
    "210 instances of 3 different varieties of wheat: Kama, Rosa and Canadian."
   ]
  },
  {
   "cell_type": "code",
   "execution_count": 2,
   "metadata": {},
   "outputs": [
    {
     "name": "stdout",
     "output_type": "stream",
     "text": [
      "210\n"
     ]
    }
   ],
   "source": [
    "data = pd.read_csv(\"seeds.csv\") \n",
    "print(len(data))\n",
    "#print(data)"
   ]
  },
  {
   "cell_type": "markdown",
   "metadata": {},
   "source": [
    "Separamos por clases el conjunto de datos"
   ]
  },
  {
   "cell_type": "code",
   "execution_count": 3,
   "metadata": {},
   "outputs": [],
   "source": [
    "clase1=data[0:70]\n",
    "clase2=data[70:140]\n",
    "clase3=data[140:210]"
   ]
  },
  {
   "cell_type": "markdown",
   "metadata": {},
   "source": [
    "Cada clase la tenemos que dividir en 10 partes de manera aleatoria (cada parte tiene 7 datos)"
   ]
  },
  {
   "cell_type": "code",
   "execution_count": 4,
   "metadata": {},
   "outputs": [],
   "source": [
    "#***********************----Revolvemos las clases---***************************************\n",
    "clase1_revuelta=shuffle(clase1)\n",
    "c1r=clase1_revuelta[0:70]\n",
    "c1r=c1r.values\n",
    "\n",
    "clase2_revuelta=shuffle(clase2)\n",
    "c2r=clase2_revuelta[0:70]\n",
    "c2r=c2r.values\n",
    "\n",
    "clase3_revuelta=shuffle(clase3)\n",
    "c3r=clase3_revuelta[0:70]\n",
    "c3r=c3r.values\n",
    "\n",
    "#***********************----Dividimos las clases en conjuntos de 7 datos---***************************************\n",
    "clase1_dividida = [c1r[x:x+7] for x in range(0, len(c1r), 7)]\n",
    "clase2_dividida = [c2r[x:x+7] for x in range(0, len(c2r), 7)]\n",
    "clase3_dividida = [c3r[x:x+7] for x in range(0, len(c3r), 7)]"
   ]
  },
  {
   "cell_type": "code",
   "execution_count": 5,
   "metadata": {},
   "outputs": [
    {
     "name": "stdout",
     "output_type": "stream",
     "text": [
      "10\n"
     ]
    }
   ],
   "source": [
    "print(len(clase3_dividida))"
   ]
  },
  {
   "cell_type": "markdown",
   "metadata": {},
   "source": [
    "Armamos los K Folds"
   ]
  },
  {
   "cell_type": "code",
   "execution_count": 6,
   "metadata": {},
   "outputs": [
    {
     "name": "stdout",
     "output_type": "stream",
     "text": [
      "10\n"
     ]
    }
   ],
   "source": [
    "Fold = []\n",
    "for i in range(0,10):\n",
    "    Fold.append([clase1_dividida[i],clase2_dividida[i],clase3_dividida[i]])   \n",
    "print(len(Fold))"
   ]
  },
  {
   "cell_type": "code",
   "execution_count": 7,
   "metadata": {},
   "outputs": [],
   "source": [
    "Fold_copy=Fold[0:11]\n",
    "## convert your array into a dataframe\n",
    "df = pd.DataFrame (Fold_copy)\n",
    "## save to xlsx file\n",
    "filepath = 'my_excel_seeds.xlsx'\n",
    "df.to_excel(filepath, index=False)"
   ]
  },
  {
   "cell_type": "markdown",
   "metadata": {},
   "source": [
    "Calculamos el vector medio"
   ]
  },
  {
   "cell_type": "code",
   "execution_count": 8,
   "metadata": {},
   "outputs": [],
   "source": [
    "#         e                   j                         k                               1,2,3,4\n",
    "# [Numero de fold(0-9)][Numero de clase(0-2)][Elemento de la clase(0-5)][De cada elemento su valor de caracteristica(0-4)]\n",
    "\n",
    "#elementos por entrenamiento\n",
    "t=63\n",
    "\n",
    "#vector medio de cada clase\n",
    "VM_Clase1 = []\n",
    "VM_Clase2 = []\n",
    "VM_Clase3 = []\n",
    "\n",
    "for i in range(0,10): #Realizamos la iteracion 10 veces segun el K_FOLD\n",
    "    xa1 = xa2 = xa3 = xa4 = xa5 = xa6 = xa7 = 0\n",
    "    xb1 = xb2 = xb3 = xb4 = xb5 = xb6 = xb7 = 0\n",
    "    xc1 = xc2 = xc3 = xc4 = xc5 = xc6 = xc7 = 0\n",
    "    for e in range(0,10):\n",
    "        if e == i: continue   #Vamos dejando 1 Fold como conjunto de entrenamiento\n",
    "        for k in range(0,7):\n",
    "            #Clase 1 Kama\n",
    "            xa1+=Fold[e][0][k][0]\n",
    "            xa2+=Fold[e][0][k][1]\n",
    "            xa3+=Fold[e][0][k][2]\n",
    "            xa4+=Fold[e][0][k][3]\n",
    "            xa5+=Fold[e][0][k][4]\n",
    "            xa6+=Fold[e][0][k][5]\n",
    "            xa7+=Fold[e][0][k][6]\n",
    "            #Clase 2 Rosa\n",
    "            xb1+=Fold[e][1][k][0]\n",
    "            xb2+=Fold[e][1][k][1]\n",
    "            xb3+=Fold[e][1][k][2]\n",
    "            xb4+=Fold[e][1][k][3]\n",
    "            xb5+=Fold[e][1][k][4]\n",
    "            xb6+=Fold[e][1][k][5]\n",
    "            xb7+=Fold[e][1][k][6]\n",
    "            #Clase 3 Canadian\n",
    "            xc1+=Fold[e][2][k][0]\n",
    "            xc2+=Fold[e][2][k][1]\n",
    "            xc3+=Fold[e][2][k][2]\n",
    "            xc4+=Fold[e][2][k][3]\n",
    "            xc5+=Fold[e][2][k][4]\n",
    "            xc6+=Fold[e][2][k][5]\n",
    "            xc7+=Fold[e][2][k][6]\n",
    "        #print(e)\n",
    "    VM_Clase1.append([xa1/t,xa2/t,xa3/t,xa4/t,xa5/t,xa6/t,xa7/t]) \n",
    "    VM_Clase2.append([xb1/t,xb2/t,xb3/t,xb4/t,xb5/t,xb6/t,xb7/t]) \n",
    "    VM_Clase3.append([xc1/t,xc2/t,xc3/t,xc4/t,xc5/t,xc6/t,xc7/t])  \n",
    "    #print('-------------')"
   ]
  },
  {
   "cell_type": "markdown",
   "metadata": {},
   "source": [
    "Calculamos la distancia Euclidiana entre el vector medio y el conjunto de prueba"
   ]
  },
  {
   "cell_type": "code",
   "execution_count": 9,
   "metadata": {},
   "outputs": [],
   "source": [
    "#         e                   j                         k                               1,2,3,4,5,6,7\n",
    "# [Numero de fold(0-9)][Numero de clase(0-2)][Elemento de la clase(0-7)][De cada elemento su valor de caracteristica(0-7)]\n",
    "resultado = []\n",
    "res = []\n",
    "e=0\n",
    "for i in range(0,10): \n",
    "    for j in range (0,3):\n",
    "        for k in range(0,7):\n",
    "            DistEuc1 = math.sqrt(((Fold[i][j][k][0]-VM_Clase1[i][0])**2)+ ((Fold[i][j][k][1]-VM_Clase1[i][1])**2) +((Fold[i][j][k][2]-VM_Clase1[i][2])**2)+((Fold[i][j][k][3]-VM_Clase1[i][3])**2)+((Fold[i][j][k][4]-VM_Clase1[i][4])**2)+((Fold[i][j][k][5]-VM_Clase1[i][5])**2)+((Fold[i][j][k][6]-VM_Clase1[i][6])**2))\n",
    "            DistEuc2 = math.sqrt(((Fold[i][j][k][0]-VM_Clase2[i][0])**2)+ ((Fold[i][j][k][1]-VM_Clase2[i][1])**2) +((Fold[i][j][k][2]-VM_Clase2[i][2])**2)+((Fold[i][j][k][3]-VM_Clase2[i][3])**2)+((Fold[i][j][k][4]-VM_Clase2[i][4])**2)+((Fold[i][j][k][5]-VM_Clase2[i][5])**2)+((Fold[i][j][k][6]-VM_Clase2[i][6])**2))\n",
    "            DistEuc3 = math.sqrt(((Fold[i][j][k][0]-VM_Clase3[i][0])**2)+ ((Fold[i][j][k][1]-VM_Clase3[i][1])**2) +((Fold[i][j][k][2]-VM_Clase3[i][2])**2)+((Fold[i][j][k][3]-VM_Clase3[i][3])**2)+((Fold[i][j][k][4]-VM_Clase3[i][4])**2)+((Fold[i][j][k][5]-VM_Clase3[i][5])**2)+((Fold[i][j][k][6]-VM_Clase3[i][6])**2))\n",
    "            if DistEuc1 < DistEuc2 and DistEuc1 < DistEuc3 :\n",
    "                #print('El resultado pertenece a la Clase1 Kama')\n",
    "                val = 1\n",
    "            elif DistEuc2 < DistEuc1 and DistEuc2 < DistEuc3 :\n",
    "                #print('El resultado pertenece a la Clase2 Rosa')\n",
    "                val = 2\n",
    "            elif DistEuc3 < DistEuc1 and DistEuc3 < DistEuc2 :\n",
    "                #print('El resultado pertenece a la Clase3 Canadian')\n",
    "                val = 3\n",
    "            #Guardamos los resultados en un vector \n",
    "            res.append(val)\n",
    "#***********************----Dividimos los resultados de las comparaciones en conjuntos de 21 datos---***************************************\n",
    "resultado = [res[x:x+21] for x in range(0, len(res), 21)]"
   ]
  },
  {
   "cell_type": "markdown",
   "metadata": {},
   "source": [
    "Calculamos el Accuracy en cada Fold"
   ]
  },
  {
   "cell_type": "code",
   "execution_count": 10,
   "metadata": {},
   "outputs": [],
   "source": [
    "matriz_comparacion = [1,1,1,1,1,1,1,2,2,2,2,2,2,2,3,3,3,3,3,3,3]\n",
    "Accuracy=[]\n",
    "\n",
    "for i in range(0,10):\n",
    "    contador=0\n",
    "    for j in range(0,21):\n",
    "        if resultado[i][j] == matriz_comparacion[j]:\n",
    "            contador+=1\n",
    "        else:\n",
    "            contador=contador\n",
    "    Accuracy.append(contador/21)"
   ]
  },
  {
   "cell_type": "code",
   "execution_count": 11,
   "metadata": {},
   "outputs": [
    {
     "name": "stdout",
     "output_type": "stream",
     "text": [
      "El promedio del accuracy del clasificador euclidiano es: 0.9047619047619049\n"
     ]
    }
   ],
   "source": [
    "total=0\n",
    "for i in range(0,10):\n",
    "    total+=Accuracy[i]\n",
    "total=total/10\n",
    "print(\"El promedio del accuracy del clasificador euclidiano es:\", total)\n",
    "\n"
   ]
  },
  {
   "cell_type": "markdown",
   "metadata": {},
   "source": [
    "Presentamos los resultados"
   ]
  },
  {
   "cell_type": "code",
   "execution_count": 12,
   "metadata": {},
   "outputs": [
    {
     "name": "stdout",
     "output_type": "stream",
     "text": [
      "------------------------------------------\n",
      "En el fold 0\n",
      "El vector medio de la clase 1 es: [14.390793650793649, 14.313333333333329, 0.8812206349206344, 5.50831746031746, 3.255714285714286, 2.618431746031746, 5.09720634920635]\n",
      "El vector medio de la clase 2 es: [18.378571428571433, 16.15190476190476, 0.8838666666666667, 6.146587301587301, 3.6838095238095234, 3.589666666666666, 6.014841269841267]\n",
      "El vector medio de la clase 3 es: [11.93031746031746, 13.276190476190475, 0.8498269841269845, 5.236619047619047, 2.8617460317460326, 4.822460317460316, 5.1241111111111115]\n",
      "El accuracy es de 0.8571428571428571\n",
      "------------------------------------------\n",
      "En el fold 1\n",
      "El vector medio de la clase 1 es: [14.31285714285714, 14.281111111111109, 0.8802126984126979, 5.500873015873015, 3.2402380952380954, 2.6320349206349203, 5.075460317460318]\n",
      "El vector medio de la clase 2 es: [18.286190476190484, 16.117936507936506, 0.883193650793651, 6.139571428571427, 3.6726349206349203, 3.641682539682539, 6.011412698412696]\n",
      "El vector medio de la clase 3 es: [11.869047619047617, 13.25174603174603, 0.8485492063492067, 5.234904761904762, 2.8500952380952387, 4.824555555555555, 5.120412698412698]\n",
      "El accuracy es de 0.9523809523809523\n",
      "------------------------------------------\n",
      "En el fold 2\n",
      "El vector medio de la clase 1 es: [14.358730158730157, 14.312222222222218, 0.8795904761904756, 5.5240793650793645, 3.24168253968254, 2.7122730158730155, 5.1128253968253965]\n",
      "El vector medio de la clase 2 es: [18.397619047619052, 16.166349206349206, 0.8833111111111112, 6.162174603174603, 3.6848253968253966, 3.6367460317460316, 6.033206349206346]\n",
      "El vector medio de la clase 3 es: [11.862222222222222, 13.236984126984126, 0.8499238095238099, 5.227968253968253, 2.853380952380953, 4.736428571428571, 5.112555555555556]\n",
      "El accuracy es de 0.8095238095238095\n",
      "------------------------------------------\n",
      "En el fold 3\n",
      "El vector medio de la clase 1 es: [14.326031746031743, 14.286825396825394, 0.8804111111111106, 5.504857142857142, 3.245317460317461, 2.6958603174603177, 5.087539682539683]\n",
      "El vector medio de la clase 2 es: [18.336507936507946, 16.135873015873013, 0.8834968253968253, 6.148396825396825, 3.679333333333333, 3.687460317460317, 6.028126984126981]\n",
      "El vector medio de la clase 3 es: [11.817460317460318, 13.2315873015873, 0.847487301587302, 5.2299999999999995, 2.8402222222222226, 4.807380952380951, 5.128047619047619]\n",
      "El accuracy es de 0.9523809523809523\n",
      "------------------------------------------\n",
      "En el fold 4\n",
      "El vector medio de la clase 1 es: [14.311269841269837, 14.284444444444443, 0.8798555555555551, 5.506634920634919, 3.239968253968254, 2.6176698412698416, 5.0859523809523814]\n",
      "El vector medio de la clase 2 es: [18.285714285714292, 16.11206349206349, 0.8837015873015872, 6.142333333333332, 3.671539682539682, 3.6052857142857135, 6.0138253968253945]\n",
      "El vector medio de la clase 3 es: [11.908253968253968, 13.26238095238095, 0.8499555555555559, 5.232222222222222, 2.8608412698412704, 4.812857142857141, 5.1185873015873025]\n",
      "El accuracy es de 0.9047619047619048\n",
      "------------------------------------------\n",
      "En el fold 5\n",
      "El vector medio de la clase 1 es: [14.258571428571425, 14.265079365079362, 0.8789444444444439, 5.505222222222221, 3.231396825396826, 2.6721936507936515, 5.073777777777778]\n",
      "El vector medio de la clase 2 es: [18.293809523809532, 16.12047619047619, 0.8831063492063492, 6.144380952380952, 3.6696984126984127, 3.6351111111111107, 6.022682539682537]\n",
      "El vector medio de la clase 3 es: [11.85936507936508, 13.239999999999997, 0.8493492063492067, 5.224365079365079, 2.8510634920634925, 4.778539682539682, 5.108698412698414]\n",
      "El accuracy es de 0.9047619047619048\n",
      "------------------------------------------\n",
      "En el fold 6\n",
      "El vector medio de la clase 1 es: [14.360158730158732, 14.305873015873013, 0.8801333333333329, 5.506015873015871, 3.2501428571428583, 2.6627634920634926, 5.085904761904763]\n",
      "El vector medio de la clase 2 es: [18.343333333333337, 16.139365079365078, 0.8836936507936509, 6.150507936507935, 3.680031746031746, 3.6587142857142863, 6.021333333333332]\n",
      "El vector medio de la clase 3 es: [11.902698412698413, 13.26380952380952, 0.8493936507936511, 5.237317460317459, 2.858333333333334, 4.815444444444443, 5.121460317460318]\n",
      "El accuracy es de 0.9047619047619048\n",
      "------------------------------------------\n",
      "En el fold 7\n",
      "El vector medio de la clase 1 es: [14.337142857142855, 14.2947619047619, 0.8804730158730153, 5.504920634920634, 3.248523809523811, 2.7400349206349204, 5.066603174603175]\n",
      "El vector medio de la clase 2 es: [18.315396825396835, 16.13873015873016, 0.8821904761904762, 6.155507936507936, 3.668746031746032, 3.748698412698412, 6.02406349206349]\n",
      "El vector medio de la clase 3 es: [11.858095238095238, 13.234285714285711, 0.8500841269841274, 5.2205873015873, 2.853968253968255, 4.751111111111111, 5.108476190476192]\n",
      "El accuracy es de 0.9047619047619048\n",
      "------------------------------------------\n",
      "En el fold 8\n",
      "El vector medio de la clase 1 es: [14.339682539682537, 14.298412698412697, 0.8797904761904757, 5.5088253968253955, 3.246111111111112, 2.5770507936507934, 5.092079365079367]\n",
      "El vector medio de la clase 2 es: [18.317936507936516, 16.115238095238094, 0.8849444444444448, 6.1293492063492065, 3.683619047619048, 3.682777777777777, 6.003206349206346]\n",
      "El vector medio de la clase 3 es: [11.841746031746034, 13.228730158730153, 0.8496285714285717, 5.224666666666667, 2.8501428571428584, 4.715841269841271, 5.109634920634922]\n",
      "El accuracy es de 0.9523809523809523\n",
      "------------------------------------------\n",
      "En el fold 9\n",
      "El vector medio de la clase 1 es: [14.349047619047617, 14.300793650793649, 0.8800682539682534, 5.510825396825396, 3.2471904761904775, 2.7457158730158726, 5.094793650793651]\n",
      "El vector medio de la clase 2 es: [18.38777777777778, 16.15920634920635, 0.8836666666666669, 6.16147619047619, 3.6799047619047625, 3.5618571428571424, 6.033301587301586]\n",
      "El vector medio de la clase 3 es: [11.889365079365081, 13.25285714285714, 0.8498873015873019, 5.2264920634920635, 2.8579206349206365, 4.819380952380952, 5.112015873015874]\n",
      "El accuracy es de 0.9047619047619048\n"
     ]
    }
   ],
   "source": [
    "for i in range(0,10):\n",
    "    print(\"------------------------------------------\")\n",
    "    print(\"En el fold\", i)\n",
    "    print(\"El vector medio de la clase 1 es:\", VM_Clase1[i])\n",
    "    print(\"El vector medio de la clase 2 es:\", VM_Clase2[i])\n",
    "    print(\"El vector medio de la clase 3 es:\", VM_Clase3[i])\n",
    "    print(\"El accuracy es de\", Accuracy[i])"
   ]
  },
  {
   "cell_type": "code",
   "execution_count": null,
   "metadata": {},
   "outputs": [],
   "source": []
  }
 ],
 "metadata": {
  "kernelspec": {
   "display_name": "Python 3",
   "language": "python",
   "name": "python3"
  },
  "language_info": {
   "codemirror_mode": {
    "name": "ipython",
    "version": 3
   },
   "file_extension": ".py",
   "mimetype": "text/x-python",
   "name": "python",
   "nbconvert_exporter": "python",
   "pygments_lexer": "ipython3",
   "version": "3.6.4"
  }
 },
 "nbformat": 4,
 "nbformat_minor": 2
}
