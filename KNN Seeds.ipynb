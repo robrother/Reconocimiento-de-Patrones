{
 "cells": [
  {
   "cell_type": "markdown",
   "metadata": {},
   "source": [
    "# Clasificador KNN"
   ]
  },
  {
   "cell_type": "markdown",
   "metadata": {},
   "source": [
    "Importamos las librerías"
   ]
  },
  {
   "cell_type": "code",
   "execution_count": 1,
   "metadata": {},
   "outputs": [],
   "source": [
    "import pandas as pd\n",
    "import numpy as np\n",
    "import math\n",
    "from sklearn.model_selection import train_test_split\n",
    "from random import shuffle\n",
    "from sklearn.utils import shuffle "
   ]
  },
  {
   "cell_type": "markdown",
   "metadata": {},
   "source": [
    "Importamos el conjunto de datos"
   ]
  },
  {
   "cell_type": "code",
   "execution_count": 2,
   "metadata": {},
   "outputs": [
    {
     "name": "stdout",
     "output_type": "stream",
     "text": [
      "210\n"
     ]
    }
   ],
   "source": [
    "data = pd.read_csv(\"seeds.csv\") \n",
    "print(len(data))\n",
    "#print(data)"
   ]
  },
  {
   "cell_type": "markdown",
   "metadata": {},
   "source": [
    "Separamos por clases el conjunto de datos"
   ]
  },
  {
   "cell_type": "code",
   "execution_count": 4,
   "metadata": {},
   "outputs": [],
   "source": [
    "clase1=data[0:70]\n",
    "clase2=data[70:140]\n",
    "clase3=data[140:210]"
   ]
  },
  {
   "cell_type": "markdown",
   "metadata": {},
   "source": [
    "Cada clase la tenemos que dividir en 10 partes de manera aleatoria (cada parte tiene 7 datos)"
   ]
  },
  {
   "cell_type": "code",
   "execution_count": 5,
   "metadata": {},
   "outputs": [],
   "source": [
    "#***********************----Revolvemos las clases---***************************************\n",
    "clase1_revuelta=shuffle(clase1)\n",
    "c1r=clase1_revuelta[0:70]\n",
    "c1r=c1r.values\n",
    "\n",
    "clase2_revuelta=shuffle(clase2)\n",
    "c2r=clase2_revuelta[0:70]\n",
    "c2r=c2r.values\n",
    "\n",
    "clase3_revuelta=shuffle(clase3)\n",
    "c3r=clase3_revuelta[0:70]\n",
    "c3r=c3r.values\n",
    "\n",
    "#***********************----Dividimos las clases en conjuntos de 7 datos---***************************************\n",
    "clase1_dividida = [c1r[x:x+7] for x in range(0, len(c1r), 7)]\n",
    "clase2_dividida = [c2r[x:x+7] for x in range(0, len(c2r), 7)]\n",
    "clase3_dividida = [c3r[x:x+7] for x in range(0, len(c3r), 7)]"
   ]
  },
  {
   "cell_type": "markdown",
   "metadata": {},
   "source": [
    "Armamos los K Folds"
   ]
  },
  {
   "cell_type": "code",
   "execution_count": 6,
   "metadata": {},
   "outputs": [
    {
     "name": "stdout",
     "output_type": "stream",
     "text": [
      "10\n"
     ]
    }
   ],
   "source": [
    "Fold = []\n",
    "for i in range(0,10):\n",
    "    Fold.append([clase1_dividida[i],clase2_dividida[i],clase3_dividida[i]])   \n",
    "print(len(Fold))"
   ]
  },
  {
   "cell_type": "code",
   "execution_count": 7,
   "metadata": {},
   "outputs": [],
   "source": [
    "Fold_copy=Fold[0:11]\n",
    "## convert your array into a dataframe\n",
    "df = pd.DataFrame (Fold_copy)\n",
    "## save to xlsx file\n",
    "filepath = 'seeds.xlsx'\n",
    "df.to_excel(filepath, index=False)"
   ]
  },
  {
   "cell_type": "code",
   "execution_count": 11,
   "metadata": {},
   "outputs": [],
   "source": [
    "def distancia(a1,b1,c1,d1,e1,f1,g1,p):\n",
    "    m1=[]\n",
    "    for i in range(0,10):\n",
    "        if i == p: continue\n",
    "        for j in range(0,3):\n",
    "            for k in range(0,7):\n",
    "                dist= math.sqrt( ((Fold[i][j][k][0]-a1)**2)+((Fold[i][j][k][1]-b1)**2)+((Fold[i][j][k][2]-c1)**2) +((Fold[i][j][k][3]-d1)**2) + ((Fold[i][j][k][4]-e1)**2) +((Fold[i][j][k][5]-f1)**2)+((Fold[i][j][k][6]-g1)**2) )\n",
    "                m1.append(dist)\n",
    "                #print(len(m1))\n",
    "    return m1;"
   ]
  },
  {
   "cell_type": "code",
   "execution_count": 12,
   "metadata": {},
   "outputs": [],
   "source": [
    "#res#         e                   j                         k                               1,2,3,4\n",
    "# [Numero de fold(0-9)][Numero de clase(0-2)][Elemento de la clase(0-5)][De cada elemento su valor de caracteristica(0-4)]\n",
    "result=[]\n",
    "for t in range(0,10):\n",
    "    for p in range(0,10):\n",
    "        if p == t:\n",
    "            for q in range(0,3):\n",
    "                for r in range(0,7):\n",
    "                    res=[]\n",
    "                    a1=Fold[p][q][r][0]\n",
    "                    b1=Fold[p][q][r][1]\n",
    "                    c1=Fold[p][q][r][2]\n",
    "                    d1=Fold[p][q][r][3]\n",
    "                    e1=Fold[p][q][r][4]\n",
    "                    f1=Fold[p][q][r][5]\n",
    "                    g1=Fold[p][q][r][6]\n",
    "                    \n",
    "                    #print(a1, b1, c1, d1)\n",
    "                    #print(\"*******:\",p)\n",
    "                    mat = distancia(a1,b1,c1,d1,e1,f1,g1,p)\n",
    "                    result.append(mat)\n",
    "        else: continue"
   ]
  },
  {
   "cell_type": "code",
   "execution_count": 13,
   "metadata": {},
   "outputs": [
    {
     "name": "stdout",
     "output_type": "stream",
     "text": [
      "210\n"
     ]
    }
   ],
   "source": [
    "print(len(result))"
   ]
  },
  {
   "cell_type": "code",
   "execution_count": 14,
   "metadata": {},
   "outputs": [
    {
     "name": "stdout",
     "output_type": "stream",
     "text": [
      "189\n"
     ]
    }
   ],
   "source": [
    "print(len(result[0]))"
   ]
  },
  {
   "cell_type": "code",
   "execution_count": 15,
   "metadata": {},
   "outputs": [],
   "source": [
    "y=[]\n",
    "for w in range(len(result)):\n",
    "    pos = result[w].index(min(result[w]))\n",
    "    y.append(pos) "
   ]
  },
  {
   "cell_type": "code",
   "execution_count": 16,
   "metadata": {},
   "outputs": [
    {
     "name": "stdout",
     "output_type": "stream",
     "text": [
      "210\n"
     ]
    }
   ],
   "source": [
    "print (len(y))"
   ]
  },
  {
   "cell_type": "code",
   "execution_count": 17,
   "metadata": {},
   "outputs": [
    {
     "name": "stdout",
     "output_type": "stream",
     "text": [
      "[166, 1, 1, 150, 43, 44, 130, 116, 31, 52, 134, 55, 116, 76, 36, 16, 187, 39, 82, 98, 25, 183, 172, 105, 108, 27, 109, 148, 52, 76, 13, 72, 53, 34, 34, 82, 79, 15, 41, 182, 187, 36, 67, 67, 0, 67, 20, 128, 85, 75, 181, 133, 8, 180, 154, 33, 58, 124, 188, 100, 17, 45, 186, 87, 4, 174, 61, 150, 114, 0, 53, 95, 96, 91, 32, 51, 72, 121, 142, 102, 16, 121, 101, 36, 131, 141, 158, 48, 42, 59, 110, 112, 118, 31, 179, 175, 136, 13, 81, 123, 36, 143, 36, 35, 144, 61, 48, 172, 63, 111, 48, 110, 73, 31, 126, 8, 71, 72, 63, 161, 78, 59, 82, 151, 140, 98, 23, 153, 153, 132, 26, 111, 46, 91, 178, 68, 160, 7, 96, 92, 35, 104, 77, 188, 99, 57, 140, 176, 130, 47, 169, 6, 27, 129, 51, 180, 117, 96, 72, 52, 73, 146, 122, 78, 101, 104, 102, 19, 174, 27, 170, 67, 123, 174, 128, 54, 137, 32, 138, 108, 30, 136, 119, 182, 36, 101, 0, 0, 39, 109, 150, 170, 174, 22, 172, 168, 95, 147, 13, 134, 94, 53, 50, 183, 101, 40, 14, 62, 40, 58]\n"
     ]
    }
   ],
   "source": [
    "print(y)\n",
    "val=y[:]"
   ]
  },
  {
   "cell_type": "code",
   "execution_count": 18,
   "metadata": {},
   "outputs": [],
   "source": [
    "mat_res=[]\n",
    "for s in range(len(y)):\n",
    "    if (val[s]>=0 and val[s]<=6) or (val[s]>=21 and val[s]<=27) or (val[s]>=42 and val[s]<=48) or (val[s]>=63 and val[s]<=69) or (val[s]>=84 and val[s]<=90) or (val[s]>=105 and val[s]<=111) or (val[s]>=126 and val[s]<=132) or (val[s]>=147 and val[s]<=153) or (val[s]>=168 and val[s]<=174):\n",
    "        valor = 1\n",
    "        mat_res.append(valor)\n",
    "    elif (val[s]>=7 and val[s]<=13) or (val[s]>=28 and val[s]<=34) or (val[s]>=49 and val[s]<=55) or (val[s]>=70 and val[s]<=76) or (val[s]>=91 and val[s]<=97) or (val[s]>=112 and val[s]<=118) or (val[s]>=133 and val[s]<=139) or (val[s]>=154 and val[s]<=160) or (val[s]>=175 and val[s]<=181):\n",
    "        valor = 2\n",
    "        mat_res.append(valor)\n",
    "    elif (val[s]>=14 and val[s]<=20) or (val[s]>=35 and val[s]<=41) or (val[s]>=56 and val[s]<=62) or (val[s]>=77 and val[s]<=83) or (val[s]>=98 and val[s]<=104) or (val[s]>=119 and val[s]<=125) or (val[s]>=140 and val[s]<=146) or (val[s]>=161 and val[s]<=167) or (val[s]>=182 and val[s]<=188):\n",
    "        valor = 3\n",
    "        mat_res.append(valor)"
   ]
  },
  {
   "cell_type": "code",
   "execution_count": 19,
   "metadata": {},
   "outputs": [
    {
     "name": "stdout",
     "output_type": "stream",
     "text": [
      "[3, 1, 1, 1, 1, 1, 1, 2, 2, 2, 2, 2, 2, 2, 3, 3, 3, 3, 3, 3, 1, 3, 1, 1, 1, 1, 1, 1, 2, 2, 2, 2, 2, 2, 2, 3, 3, 3, 3, 3, 3, 3, 1, 1, 1, 1, 3, 1, 1, 2, 2, 2, 2, 2, 2, 2, 3, 3, 3, 3, 3, 1, 3, 1, 1, 1, 3, 1, 2, 1, 2, 2, 2, 2, 2, 2, 2, 3, 3, 3, 3, 3, 3, 3, 1, 3, 2, 1, 1, 3, 1, 2, 2, 2, 2, 2, 2, 2, 3, 3, 3, 3, 3, 3, 3, 3, 1, 1, 1, 1, 1, 1, 2, 2, 1, 2, 2, 2, 1, 3, 3, 3, 3, 1, 3, 3, 1, 1, 1, 1, 1, 1, 1, 2, 2, 1, 2, 2, 2, 2, 3, 3, 3, 3, 3, 3, 3, 2, 1, 1, 1, 1, 1, 1, 2, 2, 2, 2, 2, 2, 2, 3, 3, 3, 3, 3, 3, 3, 1, 1, 1, 1, 3, 1, 1, 2, 2, 2, 2, 1, 2, 2, 3, 3, 3, 3, 1, 1, 3, 1, 1, 1, 1, 1, 1, 1, 2, 1, 2, 2, 2, 2, 2, 3, 3, 3, 3, 3, 3, 3]\n"
     ]
    }
   ],
   "source": [
    "print(mat_res)"
   ]
  },
  {
   "cell_type": "code",
   "execution_count": 20,
   "metadata": {},
   "outputs": [],
   "source": [
    "#***********************----Dividimos los resultados en conjuntos de 21 datos---***************************************\n",
    "val_min = [mat_res[x:x+21] for x in range(0, len(mat_res), 21)]"
   ]
  },
  {
   "cell_type": "code",
   "execution_count": 21,
   "metadata": {},
   "outputs": [],
   "source": [
    "matriz_comparacion = [1,1,1,1,1,1,1,2,2,2,2,2,2,2,3,3,3,3,3,3,3]\n",
    "Accuracy=[]\n",
    "\n",
    "for i in range(0,10):\n",
    "    contador=0\n",
    "    for j in range(0,21):\n",
    "        if val_min[i][j] == matriz_comparacion[j]:\n",
    "            contador+=1\n",
    "        else:\n",
    "            contador=contador\n",
    "    Accuracy.append(contador/21)"
   ]
  },
  {
   "cell_type": "code",
   "execution_count": 22,
   "metadata": {},
   "outputs": [
    {
     "name": "stdout",
     "output_type": "stream",
     "text": [
      "El promedio del accuracy del clasificador KNN es: 0.9\n"
     ]
    }
   ],
   "source": [
    "total=0\n",
    "for i in range(0,10):\n",
    "    total+=Accuracy[i]\n",
    "total=total/10\n",
    "print(\"El promedio del accuracy del clasificador KNN es:\", total)"
   ]
  },
  {
   "cell_type": "code",
   "execution_count": 23,
   "metadata": {},
   "outputs": [
    {
     "name": "stdout",
     "output_type": "stream",
     "text": [
      "El accuracy es de:  0.9047619047619048\n",
      "El accuracy es de:  0.9523809523809523\n",
      "El accuracy es de:  0.9047619047619048\n",
      "El accuracy es de:  0.9047619047619048\n",
      "El accuracy es de:  0.8571428571428571\n",
      "El accuracy es de:  0.8095238095238095\n",
      "El accuracy es de:  0.9523809523809523\n",
      "El accuracy es de:  0.9523809523809523\n",
      "El accuracy es de:  0.8095238095238095\n",
      "El accuracy es de:  0.9523809523809523\n"
     ]
    }
   ],
   "source": [
    "for i in range(0,10):\n",
    "    print(\"El accuracy es de: \",Accuracy[i])"
   ]
  },
  {
   "cell_type": "code",
   "execution_count": null,
   "metadata": {},
   "outputs": [],
   "source": []
  }
 ],
 "metadata": {
  "kernelspec": {
   "display_name": "Python 3",
   "language": "python",
   "name": "python3"
  },
  "language_info": {
   "codemirror_mode": {
    "name": "ipython",
    "version": 3
   },
   "file_extension": ".py",
   "mimetype": "text/x-python",
   "name": "python",
   "nbconvert_exporter": "python",
   "pygments_lexer": "ipython3",
   "version": "3.6.4"
  }
 },
 "nbformat": 4,
 "nbformat_minor": 2
}
