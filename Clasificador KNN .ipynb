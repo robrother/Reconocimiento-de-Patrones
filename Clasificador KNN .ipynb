{
 "cells": [
  {
   "cell_type": "markdown",
   "metadata": {},
   "source": [
    "# Clasificador KNN"
   ]
  },
  {
   "cell_type": "markdown",
   "metadata": {},
   "source": [
    "Importamos las librerias"
   ]
  },
  {
   "cell_type": "code",
   "execution_count": 1,
   "metadata": {},
   "outputs": [],
   "source": [
    "import pandas as pd\n",
    "import numpy as np\n",
    "import math\n",
    "from sklearn.model_selection import train_test_split\n",
    "from random import shuffle\n",
    "from sklearn.utils import shuffle "
   ]
  },
  {
   "cell_type": "markdown",
   "metadata": {},
   "source": [
    "Importamos el conjunto de datos"
   ]
  },
  {
   "cell_type": "code",
   "execution_count": 2,
   "metadata": {},
   "outputs": [
    {
     "name": "stdout",
     "output_type": "stream",
     "text": [
      "150\n"
     ]
    }
   ],
   "source": [
    "data = pd.read_csv(\"iris.csv\") \n",
    "print(len(data))\n",
    "#print(data)"
   ]
  },
  {
   "cell_type": "markdown",
   "metadata": {},
   "source": [
    "Separamos el conjunto de datos"
   ]
  },
  {
   "cell_type": "code",
   "execution_count": 3,
   "metadata": {},
   "outputs": [],
   "source": [
    "clase1=data[0:50]\n",
    "clase2=data[50:100]\n",
    "clase3=data[100:150]"
   ]
  },
  {
   "cell_type": "markdown",
   "metadata": {},
   "source": [
    "Cada clase la tenemos que dividir en 10 partes de manera aleatoria (cada parte tiene 5 datos)"
   ]
  },
  {
   "cell_type": "code",
   "execution_count": 4,
   "metadata": {},
   "outputs": [],
   "source": [
    "#***********************----Revolvemos las clases---***************************************\n",
    "clase1_revuelta=shuffle(clase1)\n",
    "c1r=clase1_revuelta[0:50]\n",
    "c1r=c1r.values\n",
    "\n",
    "clase2_revuelta=shuffle(clase2)\n",
    "c2r=clase2_revuelta[0:50]\n",
    "c2r=c2r.values\n",
    "\n",
    "clase3_revuelta=shuffle(clase3)\n",
    "c3r=clase3_revuelta[0:50]\n",
    "c3r=c3r.values\n",
    "\n",
    "#***********************----Dividimos las clases en conjuntos de 5 datos---***************************************\n",
    "clase1_dividida = [c1r[x:x+5] for x in range(0, len(c1r), 5)]\n",
    "clase2_dividida = [c2r[x:x+5] for x in range(0, len(c2r), 5)]\n",
    "clase3_dividida = [c3r[x:x+5] for x in range(0, len(c3r), 5)]"
   ]
  },
  {
   "cell_type": "markdown",
   "metadata": {},
   "source": [
    "Armamos los K Folds"
   ]
  },
  {
   "cell_type": "code",
   "execution_count": 5,
   "metadata": {},
   "outputs": [
    {
     "name": "stdout",
     "output_type": "stream",
     "text": [
      "10\n"
     ]
    }
   ],
   "source": [
    "Fold = []\n",
    "for i in range(0,10):\n",
    "    Fold.append([clase1_dividida[i],clase2_dividida[i],clase3_dividida[i]])   \n",
    "print(len(Fold))"
   ]
  },
  {
   "cell_type": "code",
   "execution_count": 7,
   "metadata": {},
   "outputs": [],
   "source": [
    "Fold_copy=Fold[0:11]\n",
    "## convert your array into a dataframe\n",
    "df = pd.DataFrame (Fold_copy)\n",
    "## save to xlsx file\n",
    "filepath = 'folds.xlsx'\n",
    "df.to_excel(filepath, index=False)"
   ]
  },
  {
   "cell_type": "code",
   "execution_count": 8,
   "metadata": {},
   "outputs": [],
   "source": [
    "def distancia(a1,b1,c1,d1,p):\n",
    "    m1=[]\n",
    "    for i in range(0,10):\n",
    "        if i == p: continue\n",
    "        for j in range(0,3):\n",
    "            for k in range(0,5):\n",
    "                dist= math.sqrt( ((Fold[i][j][k][0]-a1)**2)+((Fold[i][j][k][1]-b1)**2)+((Fold[i][j][k][2]-c1)**2) +((Fold[i][j][k][3]-d1)**2) )\n",
    "                m1.append(dist)\n",
    "                #print(len(m1))\n",
    "    return m1;\n"
   ]
  },
  {
   "cell_type": "code",
   "execution_count": 9,
   "metadata": {},
   "outputs": [],
   "source": [
    "#res#         e                   j                         k                               1,2,3,4\n",
    "# [Numero de fold(0-9)][Numero de clase(0-2)][Elemento de la clase(0-5)][De cada elemento su valor de caracteristica(0-4)]\n",
    "result=[]\n",
    "for t in range(0,10):\n",
    "    for p in range(0,10):\n",
    "        if p == t:\n",
    "            for q in range(0,3):\n",
    "                for r in range(0,5):\n",
    "                    res=[]\n",
    "                    a1=Fold[p][q][r][0]\n",
    "                    b1=Fold[p][q][r][1]\n",
    "                    c1=Fold[p][q][r][2]\n",
    "                    d1=Fold[p][q][r][3]\n",
    "                    #print(a1, b1, c1, d1)\n",
    "                    #print(\"*******:\",p)\n",
    "                    mat = distancia(a1,b1,c1,d1,p)\n",
    "                    result.append(mat)\n",
    "        else: continue"
   ]
  },
  {
   "cell_type": "code",
   "execution_count": 10,
   "metadata": {},
   "outputs": [
    {
     "name": "stdout",
     "output_type": "stream",
     "text": [
      "150\n"
     ]
    }
   ],
   "source": [
    "print(len(result))"
   ]
  },
  {
   "cell_type": "code",
   "execution_count": 13,
   "metadata": {},
   "outputs": [
    {
     "name": "stdout",
     "output_type": "stream",
     "text": [
      "135\n"
     ]
    }
   ],
   "source": [
    "print(len(result[0]))"
   ]
  },
  {
   "cell_type": "code",
   "execution_count": 26,
   "metadata": {},
   "outputs": [],
   "source": [
    "y=[]\n",
    "for w in range(len(result)):\n",
    "    pos = result[w].index(min(result[w]))\n",
    "    y.append(pos)    "
   ]
  },
  {
   "cell_type": "code",
   "execution_count": 27,
   "metadata": {},
   "outputs": [
    {
     "name": "stdout",
     "output_type": "stream",
     "text": [
      "150\n"
     ]
    }
   ],
   "source": [
    "print (len(y))"
   ]
  },
  {
   "cell_type": "code",
   "execution_count": 47,
   "metadata": {},
   "outputs": [
    {
     "name": "stdout",
     "output_type": "stream",
     "text": [
      "[90, 91, 48, 78, 78, 96, 114, 9, 21, 129, 40, 41, 102, 59, 55, 75, 32, 90, 75, 19, 21, 125, 9, 24, 7, 117, 131, 70, 112, 101, 31, 78, 17, 108, 19, 80, 20, 80, 69, 113, 11, 71, 59, 73, 100, 105, 30, 16, 76, 19, 127, 84, 98, 21, 24, 10, 11, 134, 56, 87, 62, 64, 121, 2, 64, 97, 126, 126, 37, 97, 14, 58, 89, 110, 42, 30, 121, 93, 105, 64, 129, 7, 125, 128, 38, 27, 41, 27, 132, 134, 18, 48, 19, 31, 105, 37, 50, 58, 85, 112, 110, 56, 59, 118, 72, 0, 1, 19, 107, 45, 114, 50, 65, 52, 52, 130, 29, 12, 134, 58, 94, 46, 108, 123, 123, 100, 67, 99, 125, 6, 10, 132, 117, 58, 42, 64, 76, 30, 124, 90, 21, 67, 50, 128, 80, 115, 26, 88, 29, 118]\n"
     ]
    }
   ],
   "source": [
    "print(y)\n",
    "val=y[:]"
   ]
  },
  {
   "cell_type": "code",
   "execution_count": 52,
   "metadata": {},
   "outputs": [],
   "source": [
    "mat_res=[]\n",
    "for s in range(len(y)):\n",
    "    if (val[s]>=0 and val[s]<=4) or (val[s]>=15 and val[s]<=19) or (val[s]>=30 and val[s]<=34) or (val[s]>=45 and val[s]<=49) or (val[s]>=60 and val[s]<=64) or (val[s]>=75 and val[s]<=79) or (val[s]>=90 and val[s]<=94) or (val[s]>=105 and val[s]<=109) or (val[s]>=120 and val[s]<=124):\n",
    "        valor = 1\n",
    "        mat_res.append(valor)\n",
    "    elif (val[s]>=5 and val[s]<=9) or (val[s]>=20 and val[s]<=24) or (val[s]>=35 and val[s]<=39) or (val[s]>=50 and val[s]<=54) or (val[s]>=65 and val[s]<=69) or (val[s]>=80 and val[s]<=84) or (val[s]>=95 and val[s]<=99) or (val[s]>=110 and val[s]<=114) or (val[s]>=125 and val[s]<=129):\n",
    "        valor = 2\n",
    "        mat_res.append(valor)\n",
    "    elif (val[s]>=10 and val[s]<=14) or (val[s]>=25 and val[s]<=29) or (val[s]>=40 and val[s]<=44) or (val[s]>=55 and val[s]<=59) or (val[s]>=70 and val[s]<=74) or (val[s]>=85 and val[s]<=89) or (val[s]>=100 and val[s]<=104) or (val[s]>=115 and val[s]<=119) or (val[s]>=130 and val[s]<=134):\n",
    "        valor = 3\n",
    "        mat_res.append(valor) "
   ]
  },
  {
   "cell_type": "code",
   "execution_count": 53,
   "metadata": {},
   "outputs": [
    {
     "name": "stdout",
     "output_type": "stream",
     "text": [
      "[1, 1, 1, 1, 1, 2, 2, 2, 2, 2, 3, 3, 3, 3, 3, 1, 1, 1, 1, 1, 2, 2, 2, 2, 2, 3, 3, 3, 2, 3, 1, 1, 1, 1, 1, 2, 2, 2, 2, 2, 3, 3, 3, 3, 3, 1, 1, 1, 1, 1, 2, 2, 2, 2, 2, 3, 3, 3, 3, 3, 1, 1, 1, 1, 1, 2, 2, 2, 2, 2, 3, 3, 3, 2, 3, 1, 1, 1, 1, 1, 2, 2, 2, 2, 2, 3, 3, 3, 3, 3, 1, 1, 1, 1, 1, 2, 2, 3, 3, 2, 2, 3, 3, 3, 3, 1, 1, 1, 1, 1, 2, 2, 2, 2, 2, 3, 3, 3, 3, 3, 1, 1, 1, 1, 1, 3, 2, 2, 2, 2, 3, 3, 3, 3, 3, 1, 1, 1, 1, 1, 2, 2, 2, 2, 2, 3, 3, 3, 3, 3]\n"
     ]
    }
   ],
   "source": [
    "print(mat_res)"
   ]
  },
  {
   "cell_type": "code",
   "execution_count": 54,
   "metadata": {},
   "outputs": [],
   "source": [
    "#***********************----Dividimos los resultados en conjuntos de 15 datos---***************************************\n",
    "val_min = [mat_res[x:x+15] for x in range(0, len(mat_res), 15)]"
   ]
  },
  {
   "cell_type": "code",
   "execution_count": 55,
   "metadata": {},
   "outputs": [],
   "source": [
    "matriz_comparacion = [1,1,1,1,1,2,2,2,2,2,3,3,3,3,3]\n",
    "Accuracy=[]\n",
    "\n",
    "for i in range(0,10):\n",
    "    contador=0\n",
    "    for j in range(0,15):\n",
    "        if val_min[i][j] == matriz_comparacion[j]:\n",
    "            contador+=1\n",
    "        else:\n",
    "            contador=contador\n",
    "    Accuracy.append(contador/15)"
   ]
  },
  {
   "cell_type": "code",
   "execution_count": 57,
   "metadata": {},
   "outputs": [
    {
     "name": "stdout",
     "output_type": "stream",
     "text": [
      "El promedio del accuracy del clasificador KNN es: 0.96\n"
     ]
    }
   ],
   "source": [
    "total=0\n",
    "for i in range(0,10):\n",
    "    total+=Accuracy[i]\n",
    "total=total/10\n",
    "print(\"El promedio del accuracy del clasificador KNN es:\", total)"
   ]
  },
  {
   "cell_type": "code",
   "execution_count": 58,
   "metadata": {},
   "outputs": [
    {
     "name": "stdout",
     "output_type": "stream",
     "text": [
      "El accuracy es de:  1.0\n",
      "El accuracy es de:  0.9333333333333333\n",
      "El accuracy es de:  1.0\n",
      "El accuracy es de:  1.0\n",
      "El accuracy es de:  0.9333333333333333\n",
      "El accuracy es de:  1.0\n",
      "El accuracy es de:  0.8\n",
      "El accuracy es de:  1.0\n",
      "El accuracy es de:  0.9333333333333333\n",
      "El accuracy es de:  1.0\n"
     ]
    }
   ],
   "source": [
    "for i in range(0,10):\n",
    "    print(\"El accuracy es de: \",Accuracy[i])"
   ]
  },
  {
   "cell_type": "code",
   "execution_count": null,
   "metadata": {},
   "outputs": [],
   "source": []
  }
 ],
 "metadata": {
  "kernelspec": {
   "display_name": "Python 3",
   "language": "python",
   "name": "python3"
  },
  "language_info": {
   "codemirror_mode": {
    "name": "ipython",
    "version": 3
   },
   "file_extension": ".py",
   "mimetype": "text/x-python",
   "name": "python",
   "nbconvert_exporter": "python",
   "pygments_lexer": "ipython3",
   "version": "3.6.4"
  }
 },
 "nbformat": 4,
 "nbformat_minor": 2
}
